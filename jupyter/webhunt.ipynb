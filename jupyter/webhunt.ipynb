{
 "cells": [
  {
   "cell_type": "markdown",
   "metadata": {},
   "source": [
    "# webhunt"
   ]
  },
  {
   "cell_type": "markdown",
   "metadata": {},
   "source": [
    "__general.py__"
   ]
  },
  {
   "cell_type": "code",
   "execution_count": null,
   "metadata": {},
   "outputs": [],
   "source": [
    "import os\n",
    "\n",
    "#Each website you crawl is a separate project\n",
    "def create_project_dir(directory):\n",
    "    if not os.path.exists(directory):\n",
    "        print('Creating project...' + directory)\n",
    "        os.makedirs(directory)\n",
    "        \n",
    "create_project_dir('thevipulsharma')"
   ]
  },
  {
   "cell_type": "code",
   "execution_count": 67,
   "metadata": {
    "collapsed": true
   },
   "outputs": [],
   "source": [
    "# Create queue and crawled files (if not created)\n",
    "def create_data_files(project_name, base_url):\n",
    "    queue = project_name + '/queue.txt'\n",
    "    crawled = project_name + '/crawled.txt'\n",
    "    \n",
    "    if not os.path.isfile(queue):\n",
    "        write_file(queue, base_url) # Base url to begin with\n",
    "        \n",
    "    if not os.path.isfile(crawled):\n",
    "        write_file(crawled, '')\n",
    "        \n",
    "# Create a new file\n",
    "def write_file(path, data):\n",
    "    f = open(path, 'w')\n",
    "    f.write(data)\n",
    "    f.close()\n",
    "    \n",
    "create_data_files('thevipulsharma', 'https://www.github.com/thevipulsharma/')"
   ]
  },
  {
   "cell_type": "code",
   "execution_count": 68,
   "metadata": {
    "collapsed": true
   },
   "outputs": [],
   "source": [
    "# Add data onto an existing file\n",
    "def append_to_file(path, data):\n",
    "    with open(path, 'a') as file:\n",
    "        file.write(data + '\\n')\n",
    "        \n",
    "# Delete the contents of a file\n",
    "def delete_file_contents(path):\n",
    "    #overriding the existing one with the same name\n",
    "    with open(path, 'w'):\n",
    "        pass\n",
    "    \n",
    "# Read a file and convert each line to set items\n",
    "def file_to_set(file_name):\n",
    "    results = set()\n",
    "    with open(file_name, 'rt') as f:\n",
    "        for line in f:\n",
    "            results.add(line.replace('\\n', '')) # Replace the newline character\n",
    "            \n",
    "        return results\n",
    "    \n",
    "# Iterate through a set, each item will be a new line in the file\n",
    "def set_to_file(links, file):\n",
    "    delete_file_contents(file)\n",
    "    for link in sorted(links):\n",
    "        append_to_file(file, link)"
   ]
  },
  {
   "cell_type": "markdown",
   "metadata": {},
   "source": [
    "__link_finder.py__"
   ]
  },
  {
   "cell_type": "code",
   "execution_count": 69,
   "metadata": {},
   "outputs": [
    {
     "data": {
      "text/plain": [
       "\"\\nfinder = LinkFinder()\\nfinder.feed('<html><head><title>Test</title></head><body><h1>Parse me!</h1></body></html>')\\n\""
      ]
     },
     "execution_count": 69,
     "metadata": {},
     "output_type": "execute_result"
    }
   ],
   "source": [
    "from html.parser import HTMLParser\n",
    "from urllib import parse\n",
    "\n",
    "# Inherting from HTMLParser class\n",
    "class LinkFinder(HTMLParser):\n",
    "    \n",
    "    def __init__(self, base_url, page_url):\n",
    "        super().__init__()\n",
    "        self.base_url = base_url\n",
    "        self.page_url = page_url\n",
    "        self.links = set()\n",
    "        \n",
    "    def handle_starttag(self, tag, attrs):\n",
    "        # print(tag)\n",
    "        if tag == 'a':\n",
    "            for(attribute, value) in attrs:\n",
    "                if attribute == 'href':\n",
    "                    url = parse.urljoin(self.base_url, value)\n",
    "                    self.links.add(url)\n",
    "                    \n",
    "    def page_links(self):\n",
    "        return self.links\n",
    "        \n",
    "    def error(self, message):\n",
    "        pass\n",
    "\n",
    "'''\n",
    "finder = LinkFinder()\n",
    "finder.feed('<html><head><title>Test</title></head><body><h1>Parse me!</h1></body></html>')\n",
    "'''"
   ]
  },
  {
   "cell_type": "markdown",
   "metadata": {},
   "source": [
    "__spider.py__"
   ]
  },
  {
   "cell_type": "code",
   "execution_count": 70,
   "metadata": {
    "collapsed": true
   },
   "outputs": [],
   "source": [
    "from urllib.request import urlopen\n",
    "# from link_finder import LinkFinder\n",
    "# from general import *\n",
    "\n",
    "class Spider:\n",
    "    \n",
    "    # Class variables (shared among all instances)\n",
    "    project_name = ''\n",
    "    base_url = ''\n",
    "    domain_name = ''\n",
    "    queue_file = ''\n",
    "    crawled_file = ''\n",
    "    queue = set()\n",
    "    crawled = set()\n",
    "    \n",
    "    def __init__(self, project_name, base_url, domain_name):\n",
    "        Spider.project_name = project_name\n",
    "        Spider.base_url = base_url\n",
    "        Spider.domain_name = domain_name\n",
    "        Spider.queue_file = Spider.project_name + '/queue.txt'\n",
    "        Spider.crawled_file = Spider.project_name + '/crawled.txt'\n",
    "        self.boot()\n",
    "        self.crawl_page('First Spider', Spider.base_url)\n",
    "        \n",
    "    @staticmethod\n",
    "    def boot():\n",
    "        create_project_dir(Spider.project_name)\n",
    "        create_data_files(Spider.project_name, Spider.base_url)\n",
    "        Spider.queue = file_to_set(Spider.queue_file)\n",
    "        Spider.crawled = file_to_set(Spider.crawled_file)\n",
    "        \n",
    "    @staticmethod\n",
    "    def crawl_page(thread_name, page_url):\n",
    "        if page_url not in Spider.crawled:\n",
    "            print(thread_name + ' now crawling: ' + page_url)\n",
    "            print('Queue ' + str(len(Spider.queue)) + ' | Crawled ' + str(len(Spider.crawled)))\n",
    "            Spider.add_links_to_queue(Spider.gather_links(page_url))\n",
    "            Spider.queue.remove(page_url)\n",
    "            Spider.crawled.add(page_url)\n",
    "            Spider.update_files()\n",
    "            \n",
    "    @staticmethod\n",
    "    def gather_links(page_url):\n",
    "        html_string = ''\n",
    "        try:\n",
    "            response = urlopen(page_url)\n",
    "            if response.getheader('Content-Type') == 'text/html; charset=utf-8':\n",
    "                html_bytes = response.read()\n",
    "                html_string = html_bytes.decode(\"utf-8\")\n",
    "                \n",
    "            finder = LinkFinder(Spider.base_url, page_url)\n",
    "            finder.feed(html_string)\n",
    "        except:\n",
    "            print('Error: can not crawl page!')\n",
    "            return set()\n",
    "        return finder.page_links()\n",
    "    \n",
    "    @staticmethod\n",
    "    def add_links_to_queue(links):\n",
    "        for url in links:\n",
    "            if url in Spider.queue:\n",
    "                continue\n",
    "            if url in Spider.crawled:\n",
    "                continue\n",
    "            if Spider.domain_name not in url:\n",
    "                continue\n",
    "            Spider.queue.add(url)\n",
    "            \n",
    "    @staticmethod\n",
    "    def update_files():\n",
    "        set_to_file(Spider.queue, Spider.queue_file)\n",
    "        set_to_file(Spider.crawled, Spider.crawled_file)"
   ]
  },
  {
   "cell_type": "markdown",
   "metadata": {},
   "source": [
    "__domain.py__"
   ]
  },
  {
   "cell_type": "code",
   "execution_count": null,
   "metadata": {},
   "outputs": [],
   "source": [
    "from urllib.parse import urlparse\n",
    "\n",
    "# Get domain name (example.com)\n",
    "def get_domain_name(url):\n",
    "    try:\n",
    "        results = get_sub_domain_name(url).split('.')\n",
    "        return results[-2] + '.' + results[-1]\n",
    "    except:\n",
    "        return ''\n",
    "\n",
    "# Get sub domain name (name.example.com)\n",
    "def get_sub_domain_name(url):\n",
    "    try:\n",
    "        return urlparse(url).netloc\n",
    "    except:\n",
    "        return ''\n",
    "    \n",
    "print(get_domain_name('https://name.example.com'))"
   ]
  },
  {
   "cell_type": "markdown",
   "metadata": {},
   "source": [
    "__main.py__"
   ]
  },
  {
   "cell_type": "code",
   "execution_count": null,
   "metadata": {},
   "outputs": [],
   "source": [
    "import threading\n",
    "from queue import Queue\n",
    "# from spider import Spider\n",
    "# from domain import *\n",
    "# from general import *\n",
    "\n",
    "PROJECT_NAME = 'thevipulsharma'\n",
    "HOMEPAGE = 'https://www.github.com/thevipulsharma/'\n",
    "DOMAIN_NAME = get_domain_name(HOMEPAGE)\n",
    "QUEUE_FILE = PROJECT_NAME + '/queue.txt'\n",
    "CRAWLED_FILE = PROJECT_NAME + '/crawled.txt'\n",
    "NUMBER_OF_THREADS = 8 #depends on the os and some other factors as well\n",
    "queue = Queue()\n",
    "\n",
    "# Creating worker threads (will die when main exits)\n",
    "def create_workers():\n",
    "    for _ in range(NUMBER_OF_THREADS):\n",
    "        t = threading.Thread(target = work)\n",
    "        t.daemon = True # Die as soon as the main exists\n",
    "        t.start()\n",
    "        \n",
    "# Do the next job in the queue\n",
    "def work():\n",
    "    while True:\n",
    "        url = queue.get()\n",
    "        Spider.crawl_page(threading.current_thread().name, url)\n",
    "        queue.task_done()\n",
    "\n",
    "# Each queued link is new job\n",
    "def create_jobs():\n",
    "    for link in file_to_set(QUEUE_FILE):\n",
    "        queue.put(link)\n",
    "    queue.join()\n",
    "    crawl()\n",
    "\n",
    "# Check if there are items in the queue, if so crawl them\n",
    "def crawl():\n",
    "    queued_links = file_to_set(QUEUE_FILE)\n",
    "    if len(queued_links) > 0:\n",
    "        print(str(len(queued_links)) + ' links in the queue')\n",
    "        create_jobs()\n",
    "\n",
    "Spider(PROJECT_NAME, HOMEPAGE, DOMAIN_NAME)\n",
    "create_workers()\n",
    "crawl()"
   ]
  },
  {
   "cell_type": "code",
   "execution_count": null,
   "metadata": {
    "collapsed": true
   },
   "outputs": [],
   "source": []
  }
 ],
 "metadata": {
  "kernelspec": {
   "display_name": "Python 3",
   "language": "python",
   "name": "python3"
  },
  "language_info": {
   "codemirror_mode": {
    "name": "ipython",
    "version": 3
   },
   "file_extension": ".py",
   "mimetype": "text/x-python",
   "name": "python",
   "nbconvert_exporter": "python",
   "pygments_lexer": "ipython3",
   "version": "3.6.3"
  }
 },
 "nbformat": 4,
 "nbformat_minor": 2
}
